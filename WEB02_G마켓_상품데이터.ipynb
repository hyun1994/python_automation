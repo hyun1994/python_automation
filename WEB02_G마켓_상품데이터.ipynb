{
  "nbformat": 4,
  "nbformat_minor": 0,
  "metadata": {
    "colab": {
      "provenance": []
    },
    "kernelspec": {
      "name": "python3",
      "display_name": "Python 3"
    },
    "language_info": {
      "name": "python"
    }
  },
  "cells": [
    {
      "cell_type": "markdown",
      "source": [
        "https://item.gmarket.co.kr/detailview/Item.asp?goodscode=1928562130"
      ],
      "metadata": {
        "id": "RVxqrBrzC0bW"
      }
    },
    {
      "cell_type": "code",
      "execution_count": 14,
      "metadata": {
        "id": "kH6b5Da1Cqdn"
      },
      "outputs": [],
      "source": [
        "import requests\n",
        "from bs4 import BeautifulSoup\n",
        "import os\n",
        "import pandas as pd\n",
        "from urllib.request import urlretrieve\n",
        "\n",
        "item_code = 2251159549\n",
        "url = f'http://item.gmarket.co.kr/detailview/Item.asp?goodscode={item_code}'\n",
        "\n",
        "req = requests.get(url)\n",
        "soup = BeautifulSoup(req.content, 'html.parser')"
      ]
    },
    {
      "cell_type": "code",
      "source": [
        "# 이미지 태그를 찾고 출력\n",
        "soup_tag = soup.find('div', attrs={'class':'thumb-gallery'})\n",
        "imgs = soup_tag.find_all('img')\n",
        "print(imgs)\n",
        "print(len(imgs))"
      ],
      "metadata": {
        "colab": {
          "base_uri": "https://localhost:8080/"
        },
        "id": "b_y7ooH4DUFV",
        "outputId": "97259141-b24d-47f4-abb5-631353415fed"
      },
      "execution_count": 15,
      "outputs": [
        {
          "output_type": "stream",
          "name": "stdout",
          "text": [
            "[<img alt=\"설 빅세일\" class=\"image\" src=\"//image.gmarket.co.kr/hanbando/202212/bb38d97d-4dc8-4569-8c87-7f0b228d4047.png\"/>, <img alt=\"본사직영/ 지오지아 박서준의 FW 아우터 클리어런스 상품이미지\" height=\"600\" onerror=\"javascript:imageErrorProcess(this, 'main', 'http://gdimg.gmarket.co.kr/2251159549/still/400?ver=1671785163', 'http://gdimg.gmarket.co.kr/2251159549/still/300?ver=1671785163');\" src=\"http://gdimg.gmarket.co.kr/2251159549/still/600?ver=1671785163\" width=\"600\"/>, <img alt=\"상품 이미지1\" ec=\"0\" height=\"600\" onerror=\"javascript:imageErrorProcess(this, 'more', 'http://gdimg1.gmarket.co.kr/goods_image2/shop_moreimg/225/115/2251159549/2251159549_00.jpg?ver=1671785163', 'http://gdimg1.gmarket.co.kr/goods_image2/middle_moreimg/225/115/2251159549/2251159549_00.jpg?ver=1671785163');\" src=\"http://gdimg1.gmarket.co.kr/goods_image2/exlarge_moreimg/225/115/2251159549/2251159549_00.jpg?ver=1671785163\" width=\"600\"/>, <img alt=\"상품 이미지1\" ec=\"0\" height=\"600\" onerror=\"javascript:imageErrorProcess(this, 'more', 'http://gdimg1.gmarket.co.kr/goods_image2/shop_moreimg/225/115/2251159549/2251159549_01.jpg?ver=1671785163', 'http://gdimg1.gmarket.co.kr/goods_image2/middle_moreimg/225/115/2251159549/2251159549_01.jpg?ver=1671785163');\" src=\"http://gdimg1.gmarket.co.kr/goods_image2/exlarge_moreimg/225/115/2251159549/2251159549_01.jpg?ver=1671785163\" width=\"600\"/>, <img alt=\"본사직영/ 지오지아 박서준의 FW 아우터 클리어런스 상품이미지\" height=\"60\" onerror=\"javascript:imageErrorProcess(this, 'sub', '');\" src=\"http://gdimg.gmarket.co.kr/2251159549/still/80?ver=1671785163\" width=\"60\"/>, <img alt=\"상품 이미지1\" height=\"60\" onerror=\"javascript:imageErrorProcess(this, 'sub', '');\" src=\"http://gdimg1.gmarket.co.kr/goods_image2/small_moreimg/225/115/2251159549/2251159549_00.jpg?ver=1671785163\" width=\"60\"/>, <img alt=\"상품 이미지1\" height=\"60\" onerror=\"javascript:imageErrorProcess(this, 'sub', '');\" src=\"http://gdimg1.gmarket.co.kr/goods_image2/small_moreimg/225/115/2251159549/2251159549_01.jpg?ver=1671785163\" width=\"60\"/>]\n",
            "7\n"
          ]
        }
      ]
    },
    {
      "cell_type": "code",
      "source": [
        "# 이미지를 다운로드\n",
        "img_url = imgs[1].get('src')\n",
        "\n",
        "try:\n",
        "    os.mkdir('./img_gmarket')\n",
        "except:\n",
        "    pass\n",
        "\n",
        "urlretrieve(img_url, f'./img_gmarket/{item_code}.jpg')"
      ],
      "metadata": {
        "colab": {
          "base_uri": "https://localhost:8080/"
        },
        "id": "WZFCB7B8DjIB",
        "outputId": "3f00f9ba-8120-49b8-9d47-1d5ee2490695"
      },
      "execution_count": 19,
      "outputs": [
        {
          "output_type": "execute_result",
          "data": {
            "text/plain": [
              "('./img_gmarket/2251159549.jpg', <http.client.HTTPMessage at 0x7fc693333700>)"
            ]
          },
          "metadata": {},
          "execution_count": 19
        }
      ]
    },
    {
      "cell_type": "code",
      "source": [
        "price = soup.find(attrs={'class':'price_real'}).text\n",
        "price = price.replace('원', '').replace(',','')\n",
        "print(price)\n",
        "\n",
        "try:\n",
        "    price = int(price)\n",
        "except:\n",
        "    price = 0\n",
        "\n",
        "price"
      ],
      "metadata": {
        "colab": {
          "base_uri": "https://localhost:8080/"
        },
        "id": "EfEzPFHmDy4c",
        "outputId": "3a55d308-f377-470d-9bd0-dd6b81ef133b"
      },
      "execution_count": 20,
      "outputs": [
        {
          "output_type": "stream",
          "name": "stdout",
          "text": [
            "109000\n"
          ]
        },
        {
          "output_type": "execute_result",
          "data": {
            "text/plain": [
              "109000"
            ]
          },
          "metadata": {},
          "execution_count": 20
        }
      ]
    },
    {
      "cell_type": "code",
      "source": [
        "# 카테고리\n",
        "\n",
        "cats = soup.find(attrs={'class':'location-navi'}).find('ul').find_all('li')[1:]\n",
        "category = ''\n",
        "\n",
        "for c in cats:\n",
        "    category = category + c.find('a').text + '. '\n",
        "    print(category)\n",
        "\n",
        "detail_url = soup.find('iframe', attrs={'id':'detail1'}).get('src')\n",
        "\n",
        "req_d = requests.get(detail_url)\n",
        "soup_d = BeautifulSoup(req_d.content, 'html.parser')\n",
        "\n",
        "d_list = soup_d.find_all('img')\n",
        "img_src = [d.get('src') for d in d_list]\n",
        "\n",
        "path = f'./img_gmarket/{item_code}'\n",
        "print(path)\n",
        "try:\n",
        "    os.mkdir(path)\n",
        "except:\n",
        "    pass\n",
        "[urlretrieve(i, f'{path}/image_{idx}.jpg') for idx, i in enumerate(img_src)]"
      ],
      "metadata": {
        "colab": {
          "base_uri": "https://localhost:8080/"
        },
        "id": "Xtj2a9RgHa6r",
        "outputId": "ce665341-412f-4922-e441-856fbc76b0b4"
      },
      "execution_count": 25,
      "outputs": [
        {
          "output_type": "stream",
          "name": "stdout",
          "text": [
            "브랜드 남성의류. \n",
            "브랜드 남성의류. 셔츠/남방. \n",
            "브랜드 남성의류. 셔츠/남방. 솔리드 셔츠/남방. \n",
            "./img_gmarket/2251159549\n"
          ]
        },
        {
          "output_type": "execute_result",
          "data": {
            "text/plain": [
              "[('./img_gmarket/2251159549/image_0.jpg',\n",
              "  <http.client.HTTPMessage at 0x7fc69313e460>),\n",
              " ('./img_gmarket/2251159549/image_1.jpg',\n",
              "  <http.client.HTTPMessage at 0x7fc6932d5580>),\n",
              " ('./img_gmarket/2251159549/image_2.jpg',\n",
              "  <http.client.HTTPMessage at 0x7fc6932d5670>),\n",
              " ('./img_gmarket/2251159549/image_3.jpg',\n",
              "  <http.client.HTTPMessage at 0x7fc6932d5760>),\n",
              " ('./img_gmarket/2251159549/image_4.jpg',\n",
              "  <http.client.HTTPMessage at 0x7fc6932d5160>),\n",
              " ('./img_gmarket/2251159549/image_5.jpg',\n",
              "  <http.client.HTTPMessage at 0x7fc6932d5820>),\n",
              " ('./img_gmarket/2251159549/image_6.jpg',\n",
              "  <http.client.HTTPMessage at 0x7fc6932d5700>),\n",
              " ('./img_gmarket/2251159549/image_7.jpg',\n",
              "  <http.client.HTTPMessage at 0x7fc6932d5b80>),\n",
              " ('./img_gmarket/2251159549/image_8.jpg',\n",
              "  <http.client.HTTPMessage at 0x7fc6932d5040>),\n",
              " ('./img_gmarket/2251159549/image_9.jpg',\n",
              "  <http.client.HTTPMessage at 0x7fc6932d50d0>),\n",
              " ('./img_gmarket/2251159549/image_10.jpg',\n",
              "  <http.client.HTTPMessage at 0x7fc6932d5280>),\n",
              " ('./img_gmarket/2251159549/image_11.jpg',\n",
              "  <http.client.HTTPMessage at 0x7fc6932d50a0>),\n",
              " ('./img_gmarket/2251159549/image_12.jpg',\n",
              "  <http.client.HTTPMessage at 0x7fc6932d5d90>),\n",
              " ('./img_gmarket/2251159549/image_13.jpg',\n",
              "  <http.client.HTTPMessage at 0x7fc6932d5dc0>),\n",
              " ('./img_gmarket/2251159549/image_14.jpg',\n",
              "  <http.client.HTTPMessage at 0x7fc6932d5e50>),\n",
              " ('./img_gmarket/2251159549/image_15.jpg',\n",
              "  <http.client.HTTPMessage at 0x7fc6932d59a0>),\n",
              " ('./img_gmarket/2251159549/image_16.jpg',\n",
              "  <http.client.HTTPMessage at 0x7fc6932d5070>),\n",
              " ('./img_gmarket/2251159549/image_17.jpg',\n",
              "  <http.client.HTTPMessage at 0x7fc6932d5fa0>),\n",
              " ('./img_gmarket/2251159549/image_18.jpg',\n",
              "  <http.client.HTTPMessage at 0x7fc6932d5850>),\n",
              " ('./img_gmarket/2251159549/image_19.jpg',\n",
              "  <http.client.HTTPMessage at 0x7fc6932d5d30>),\n",
              " ('./img_gmarket/2251159549/image_20.jpg',\n",
              "  <http.client.HTTPMessage at 0x7fc6932d5490>),\n",
              " ('./img_gmarket/2251159549/image_21.jpg',\n",
              "  <http.client.HTTPMessage at 0x7fc6932d5940>),\n",
              " ('./img_gmarket/2251159549/image_22.jpg',\n",
              "  <http.client.HTTPMessage at 0x7fc6932d52b0>),\n",
              " ('./img_gmarket/2251159549/image_23.jpg',\n",
              "  <http.client.HTTPMessage at 0x7fc6932d5130>),\n",
              " ('./img_gmarket/2251159549/image_24.jpg',\n",
              "  <http.client.HTTPMessage at 0x7fc6932d54f0>),\n",
              " ('./img_gmarket/2251159549/image_25.jpg',\n",
              "  <http.client.HTTPMessage at 0x7fc6932d5610>),\n",
              " ('./img_gmarket/2251159549/image_26.jpg',\n",
              "  <http.client.HTTPMessage at 0x7fc6932d5f70>),\n",
              " ('./img_gmarket/2251159549/image_27.jpg',\n",
              "  <http.client.HTTPMessage at 0x7fc6932d5100>),\n",
              " ('./img_gmarket/2251159549/image_28.jpg',\n",
              "  <http.client.HTTPMessage at 0x7fc6932d5340>),\n",
              " ('./img_gmarket/2251159549/image_29.jpg',\n",
              "  <http.client.HTTPMessage at 0x7fc693496d30>),\n",
              " ('./img_gmarket/2251159549/image_30.jpg',\n",
              "  <http.client.HTTPMessage at 0x7fc69313e220>),\n",
              " ('./img_gmarket/2251159549/image_31.jpg',\n",
              "  <http.client.HTTPMessage at 0x7fc69313e250>),\n",
              " ('./img_gmarket/2251159549/image_32.jpg',\n",
              "  <http.client.HTTPMessage at 0x7fc69313e400>),\n",
              " ('./img_gmarket/2251159549/image_33.jpg',\n",
              "  <http.client.HTTPMessage at 0x7fc69313e190>),\n",
              " ('./img_gmarket/2251159549/image_34.jpg',\n",
              "  <http.client.HTTPMessage at 0x7fc6932d58b0>)]"
            ]
          },
          "metadata": {},
          "execution_count": 25
        }
      ]
    },
    {
      "cell_type": "code",
      "source": [],
      "metadata": {
        "id": "aADTQpHXIWYg"
      },
      "execution_count": null,
      "outputs": []
    }
  ]
}